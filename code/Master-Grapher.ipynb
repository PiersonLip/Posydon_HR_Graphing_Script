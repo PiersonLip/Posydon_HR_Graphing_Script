{
 "cells": [
  {
   "cell_type": "code",
   "execution_count": 31,
   "id": "6b66b094-08a9-4b2b-a42b-981c25f4d634",
   "metadata": {},
   "outputs": [],
   "source": [
    "import matplotlib.pyplot as plt\n",
    "import pandas as pd \n",
    "import numpy as np\n",
    "import h5py\n",
    "from matplotlib.pyplot import figure\n",
    "from HRDiagram import color_map_HR\n",
    "from HRDiagram import color_map_HR_bokeh\n",
    "from HRDiagram import HR_Diagram_Bokeh_Sample_Grapher\n",
    "from pathlib import Path\n",
    "\n",
    "pd.set_option('display.max_columns', None)\n"
   ]
  },
  {
   "cell_type": "code",
   "execution_count": 32,
   "id": "bd2670bb",
   "metadata": {},
   "outputs": [],
   "source": [
    "# data folder location\n",
    "data = Path().resolve().parent / 'data'\n",
    "\n",
    "XBs = pd.read_csv(data / 'xb.csv', low_memory=False)\n",
    "\n",
    "contact = pd.read_csv(data / 'contact.csv', low_memory=False)\n",
    "LMXBs = pd.read_csv(data / 'lmxb.csv', low_memory=False)\n",
    "HMXBs = pd.read_csv(data / 'hmxb.csv', low_memory=False)\n",
    "UCXBs = pd.read_csv(data / 'UCXBs.csv', low_memory=False)\n",
    "# detached = pd.read_csv(data / 'detached.csv', low_memory=False)\n",
    "# V404Dataset = pd.read_csv(data / 'V404dataset.csv', low_memory=False)\n",
    "\n",
    "# EndStateDataset = pd.read_hdf(data / '1e+00_Zsun_population_max.h5', low_memory=False, key='history')\n",
    "\n"
   ]
  },
  {
   "cell_type": "code",
   "execution_count": 33,
   "id": "0f6009df",
   "metadata": {},
   "outputs": [],
   "source": [
    "# color_map_HR_bokeh(contact,  db_name='Contact Binaries', variable='S2_surface_h1', var_name='Star Two Surface Hydrogen [%]', saveLoc=testing)"
   ]
  },
  {
   "cell_type": "code",
   "execution_count": 34,
   "id": "15485802",
   "metadata": {},
   "outputs": [],
   "source": [
    "# color_map_HR_bokeh(XBs,  db_name='X-ray Binaries', variable='S2_surface_h1', var_name='Star Two Surface Hydrogen [%]', saveLoc=testing, Star_Radiubs=10)"
   ]
  },
  {
   "cell_type": "code",
   "execution_count": 35,
   "id": "495de50b",
   "metadata": {},
   "outputs": [],
   "source": [
    "# color_map_HR_bokeh(XBs, db_name= ' X-ray Binaries', variable = 'orbital_period', var_name= 'Orbital Period', LogVar ='T', open='T', Star_Radius = 5, ylimit= 'F')"
   ]
  },
  {
   "cell_type": "code",
   "execution_count": 36,
   "id": "6b943c8d",
   "metadata": {},
   "outputs": [],
   "source": [
    "HR_Diagram_Bokeh_Sample_Grapher(XBs, DB_Name='X-ray Binaries', SaveLocation=\"XBs\", Star_R=5, Fopen = \"F\")\n",
    "HR_Diagram_Bokeh_Sample_Grapher(XBs, DB_Name='X-ray Binaries', SaveLocation=\"XBs_DynamR\", Star_R='T', Fopen = \"F\")"
   ]
  },
  {
   "cell_type": "code",
   "execution_count": 37,
   "id": "78c0cedd",
   "metadata": {},
   "outputs": [],
   "source": [
    "HR_Diagram_Bokeh_Sample_Grapher(contact, DB_Name='Contact Binaries', SaveLocation=\"Contacts\", Star_R=5, Fopen = \"F\")\n",
    "HR_Diagram_Bokeh_Sample_Grapher(contact, DB_Name='Contact Binaries', SaveLocation=\"Contacts_DynamR\", Star_R='T', Fopen = \"F\")"
   ]
  },
  {
   "cell_type": "code",
   "execution_count": 38,
   "id": "9374aaaf",
   "metadata": {},
   "outputs": [],
   "source": [
    "HR_Diagram_Bokeh_Sample_Grapher(LMXBs, DB_Name='Low-Mass X-ray Binaries', SaveLocation= \"LMXBs\", Star_R= 5, Fopen = \"F\")\n",
    "HR_Diagram_Bokeh_Sample_Grapher(LMXBs, DB_Name='Low-Mass X-ray Binaries', SaveLocation= \"LMXBs_DynamR\", Star_R= 'T', Fopen = \"F\")"
   ]
  },
  {
   "cell_type": "code",
   "execution_count": 39,
   "id": "2933e887",
   "metadata": {},
   "outputs": [],
   "source": [
    "HR_Diagram_Bokeh_Sample_Grapher(HMXBs, DB_Name='High-Mass X-ray Binaries', SaveLocation= \"HMXBs\", Star_R= 5, Fopen = \"F\")\n",
    "HR_Diagram_Bokeh_Sample_Grapher(HMXBs, DB_Name='High-Mass X-ray Binaries', SaveLocation= \"HMXBs_DynamR\", Star_R= 'T', Fopen = \"F\")"
   ]
  },
  {
   "cell_type": "code",
   "execution_count": 40,
   "id": "9cadd29a",
   "metadata": {},
   "outputs": [],
   "source": [
    "HR_Diagram_Bokeh_Sample_Grapher(UCXBs, DB_Name=\"Ultra-Compact X-ray Binaries\", SaveLocation= \"UCXBs\", Star_R= 8, palette= 'Turbo256', Fopen = \"F\")\n",
    "HR_Diagram_Bokeh_Sample_Grapher(UCXBs, DB_Name=\"Ultra-Compact X-ray Binaries\", SaveLocation= \"UCXBs_DynamR\", Star_R= 'T', palette= 'Turbo256', Fopen = \"F\")"
   ]
  }
 ],
 "metadata": {
  "kernelspec": {
   "display_name": "Python 3",
   "language": "python",
   "name": "python3"
  },
  "language_info": {
   "codemirror_mode": {
    "name": "ipython",
    "version": 3
   },
   "file_extension": ".py",
   "mimetype": "text/x-python",
   "name": "python",
   "nbconvert_exporter": "python",
   "pygments_lexer": "ipython3",
   "version": "3.9.13"
  }
 },
 "nbformat": 4,
 "nbformat_minor": 5
}
