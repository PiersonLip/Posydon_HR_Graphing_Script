{
 "cells": [
  {
   "cell_type": "code",
   "execution_count": 1,
   "id": "6b66b094-08a9-4b2b-a42b-981c25f4d634",
   "metadata": {},
   "outputs": [],
   "source": [
    "import matplotlib.pyplot as plt\n",
    "import pandas as pd \n",
    "import numpy as np\n",
    "import h5py\n",
    "from matplotlib.pyplot import figure\n",
    "from HRDiagram import color_map_HR\n",
    "from HRDiagram import color_map_HR_bokeh\n",
    "from HRDiagram import HR_Diagram_Bokeh_Sample_Grapher\n",
    "from pathlib import Path\n",
    "\n",
    "pd.set_option('display.max_columns', None)\n"
   ]
  },
  {
   "cell_type": "code",
   "execution_count": 2,
   "id": "bd2670bb",
   "metadata": {},
   "outputs": [],
   "source": [
    "# loading the POSYDON data in pandas DFs using pathlib. Any POSYDON pandas DF will work as well \n",
    "data = Path().resolve() / 'data'\n",
    "\n",
    "XBs = pd.read_csv(data / 'XB.csv', low_memory=False)\n",
    "contact = pd.read_csv(data / 'contact.csv', low_memory=False)\n",
    "LMXBs = pd.read_csv(data / 'lmxb.csv', low_memory=False)\n",
    "HMXBs = pd.read_csv(data / 'hmxb.csv', low_memory=False)\n"
   ]
  },
  {
   "cell_type": "code",
   "execution_count": null,
   "id": "890cda0d",
   "metadata": {},
   "outputs": [],
   "source": [
    "color_map_HR_bokeh (DF,  # POSYDON DF to be loaded\n",
    "                    DF_name, # name of the DF for autoamtic file and title purposes \n",
    "                    Star = 2, # what star to used for the plotting of the HR diagram. I.E. what star's lum and temp to use\n",
    "                    variable='S1_mass',  # variable to be used on the colorbar. needs to be in the format of the Pandas column. it will be called as DF[varaible]\n",
    "                    var_name='default',  # name of the colorbar var. if not explicitly stated it will use the string 'variable'\n",
    "                    LogVar='F',  # whether or not to Log10 the var used for the colorbar. this has smart logic, so if the variable is already logged in the DF (ex. lg_mtransfer_rate) CB will be auto logged. This should be used when a value in the DF isnt logged, but should be\n",
    "                    title='default',  # title of graph. if left to default one will be auto generated\n",
    "                    saveLoc='',  # save location of graph, if left default will save in same location as script\n",
    "                    examplePoint='F',  # T/F, whether or not to inlcude a reference star to the graph. this is useful for comparing observed vs simulated binaries\n",
    "                    examplePointRange='F',  # T/F whether or not to graph an error range for the reference point. this is useful for observational error and/or variable stars.\n",
    "                    exampleLum=0,  # ref points lum. NOT LOGGED\n",
    "                    exampleTemp=0,  # ref points temp. NOT LOGGED\n",
    "                    exampleTempMin=0, #minimum example temp\n",
    "                    exampleTempMax=0, #max example temp\n",
    "                    exampleLumMin=0, #minimum example lum\n",
    "                    exampleLumMax=0, #max example lum\n",
    "                    Star_Radius= 'T', # true or false. whether not to use a dynamic star radius If not set to T, must input a val for the star radius. i.e. Star_Radius = 5\n",
    "                    ylimit='F',  # whether or not to use a set range or autogen\n",
    "                    minR=1.5,  # minimum Y limit\n",
    "                    maxR=6.5,  # max y val\n",
    "                    fileName='Default', # filename, if set to default one is autogened\n",
    "                    open = 'F',\n",
    "                    palette = 'Default')"
   ]
  },
  {
   "cell_type": "code",
   "execution_count": null,
   "id": "25cd2809",
   "metadata": {},
   "outputs": [],
   "source": [
    "color_map_HR_bokeh(XBs,  #DF to load\n",
    "                   DF_name='X-ray Binaries', #name of the DF for automatic filename and title purposues \n",
    "                   variable='S2_surface_h1', #variable to be assigned to the colormap\n",
    "                   var_name='Star Two Surface Hydrogen [%]', #name of the variable, if excluded the string 'variable' will be used instead \n",
    "                   open = 'T') #whether or not to open the graph in browser after its finished generating"
   ]
  },
  {
   "cell_type": "code",
   "execution_count": null,
   "id": "de3e9881",
   "metadata": {},
   "outputs": [],
   "source": [
    "#same thing as above, however it used matplotlib instead of bokeh and with a custom title\n",
    "\n",
    "color_map_HR(XBs, \n",
    "            DF_name='X-ray Binaries', \n",
    "            variable='S2_surface_h1', \n",
    "            var_name='Star Two Surface Hydrogen [%]', \n",
    "            title= 'Donor Star in X-ray Binaries with Dynamic Star Radius',\n",
    "            open = 'T') "
   ]
  },
  {
   "cell_type": "code",
   "execution_count": 10,
   "id": "0f6009df",
   "metadata": {},
   "outputs": [
    {
     "name": "stderr",
     "output_type": "stream",
     "text": [
      "c:\\Users\\iatpuser\\Desktop\\Code\\Posydon_HR_Graphing_Script\\HRDiagram.py:316: RuntimeWarning: divide by zero encountered in log10\n",
      "  Temp=[np.log10(exampleTemp)],\n",
      "c:\\Users\\iatpuser\\Desktop\\Code\\Posydon_HR_Graphing_Script\\HRDiagram.py:317: RuntimeWarning: divide by zero encountered in log10\n",
      "  Lum=[np.log10(exampleLum)],\n"
     ]
    }
   ],
   "source": [
    "color_map_HR_bokeh(contact,  \n",
    "                   DF_name='Contact Binaries', \n",
    "                   variable='S1_mass', \n",
    "                   var_name=r'Star One Mass $$[M\\odot]$$',  \n",
    "                   open = 'T')"
   ]
  },
  {
   "cell_type": "code",
   "execution_count": null,
   "id": "b9a294f7",
   "metadata": {},
   "outputs": [],
   "source": [
    "# bokeh script for graphing a posydon DF as well as an reference star. In this case the reference star is v404 cygni.\n",
    "\n",
    "color_map_HR_bokeh(DF = XBs, \n",
    "            DF_name= 'X-ray Binaries',\n",
    "            variable= 'S2_mass', \n",
    "            var_name= r'Star Two Mass [$$M_{\\odot}$$]', \n",
    "            referenceStar='T', \n",
    "            referenceStarName = 'V404 Cygni',\n",
    "            exampleLum=8.7, # non-logged value\n",
    "            referenceStarRange= 'T', \n",
    "            exampleLumMax= 8.7 + 1.7,\n",
    "            exampleLumMin= 8.7 - 1.4, \n",
    "            exampleTemp = 4274,\n",
    "            exampleTempMin = 4274 -113,\n",
    "            exampleTempMax = 4274 + 116,\n",
    "            title='V404 Cygni B compared with POSYDON XrB donor stars', \n",
    "            saveLoc='Testing', \n",
    "            ylimit='F', \n",
    "            Star_Radius= 5, \n",
    "            fileName='V404XBsPopulationHRComp',\n",
    "            open = 'T')"
   ]
  },
  {
   "cell_type": "code",
   "execution_count": null,
   "id": "6b943c8d",
   "metadata": {},
   "outputs": [
    {
     "name": "stderr",
     "output_type": "stream",
     "text": [
      "c:\\Users\\iatpuser\\Desktop\\Code\\Posydon_HR_Graphing_Script\\HRDiagram.py:316: RuntimeWarning: divide by zero encountered in log10\n",
      "  Temp=[np.log10(exampleTemp)],\n",
      "c:\\Users\\iatpuser\\Desktop\\Code\\Posydon_HR_Graphing_Script\\HRDiagram.py:317: RuntimeWarning: divide by zero encountered in log10\n",
      "  Lum=[np.log10(exampleLum)],\n"
     ]
    }
   ],
   "source": [
    "# this script generates a selection of Bokeh graphs with CB variables aimed to provide a greater insight into various graphed populations. It creates a subfolder called 'sampler', generates a selection of 7 graphs (with 7 'alt' versions with dynamic star radius), and then creates an html file to provide easy viewing of the selection. \n",
    "\n",
    "HR_Diagram_Bokeh_Sample_Grapher(XBs, \n",
    "                                DF_Name='X-ray Binaries', \n",
    "                                # SaveLocation=\"bulkSample\", \n",
    "                                # If the savelocation is set to default, it will then save as / 'Sampler' / DF_Name / 'graphs'\n",
    "                                # if savelocation is NOT set to default, it will then save as / SaveLocation/ 'graphs'\n",
    "                                Star_R=5, \n",
    "                                Fopen = \"T\")"
   ]
  }
 ],
 "metadata": {
  "kernelspec": {
   "display_name": "base",
   "language": "python",
   "name": "python3"
  },
  "language_info": {
   "codemirror_mode": {
    "name": "ipython",
    "version": 3
   },
   "file_extension": ".py",
   "mimetype": "text/x-python",
   "name": "python",
   "nbconvert_exporter": "python",
   "pygments_lexer": "ipython3",
   "version": "3.12.4"
  }
 },
 "nbformat": 4,
 "nbformat_minor": 5
}
