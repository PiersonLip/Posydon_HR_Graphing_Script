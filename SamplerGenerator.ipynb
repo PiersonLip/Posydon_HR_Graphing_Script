{
 "cells": [
  {
   "cell_type": "code",
   "execution_count": 1,
   "id": "6b66b094-08a9-4b2b-a42b-981c25f4d634",
   "metadata": {},
   "outputs": [],
   "source": [
    "import matplotlib.pyplot as plt\n",
    "import pandas as pd \n",
    "import numpy as np\n",
    "import h5py\n",
    "from matplotlib.pyplot import figure\n",
    "from POSYDONHRDiagram import POSYDON_color_map_HR\n",
    "from POSYDONHRDiagram import POSYDON_color_map_HR_bokeh\n",
    "from POSYDONHRDiagram import POSYDON_HR_Diagram_Bokeh_Sample\n",
    "from pathlib import Path\n",
    "\n",
    "pd.set_option('display.max_columns', None)"
   ]
  },
  {
   "cell_type": "code",
   "execution_count": 2,
   "id": "bd2670bb",
   "metadata": {},
   "outputs": [],
   "source": [
    "# loading the POSYDON data in pandas DFs using pathlib. Any POSYDON pandas DF will work as well \n",
    "data = Path().resolve() / 'data'\n",
    "\n",
    "XBs = pd.read_csv(data / 'XB.csv', low_memory=False)\n",
    "contact = pd.read_csv(data / 'contact.csv', low_memory=False)\n",
    "LMXBs = pd.read_csv(data / 'lmxb.csv', low_memory=False)\n",
    "HMXBs = pd.read_csv(data / 'hmxb.csv', low_memory=False)\n",
    "UCXBs = pd.read_csv(data / 'UCXBs.csv', low_memory=False)\n",
    "\n",
    "saveLoc = Path().resolve() / 'Sampler'"
   ]
  },
  {
   "cell_type": "code",
   "execution_count": null,
   "id": "6b943c8d",
   "metadata": {},
   "outputs": [],
   "source": [
    "POSYDON_HR_Diagram_Bokeh_Sample(XBs, DF_Name='XBs', Star_R=5, Fopen = False)"
   ]
  },
  {
   "cell_type": "code",
   "execution_count": null,
   "id": "78c0cedd",
   "metadata": {},
   "outputs": [],
   "source": [
    "POSYDON_HR_Diagram_Bokeh_Sample(contact, DF_Name='Contact', Star_R=5, Fopen = False)"
   ]
  },
  {
   "cell_type": "code",
   "execution_count": null,
   "id": "9374aaaf",
   "metadata": {},
   "outputs": [],
   "source": [
    "POSYDON_HR_Diagram_Bokeh_Sample(LMXBs, DF_Name='LMXBs', Star_R= 5, Fopen = False)"
   ]
  },
  {
   "cell_type": "code",
   "execution_count": null,
   "id": "2933e887",
   "metadata": {},
   "outputs": [],
   "source": [
    "POSYDON_HR_Diagram_Bokeh_Sample(HMXBs, DF_Name='HMXBs', Star_R= 5, Fopen = False)"
   ]
  },
  {
   "cell_type": "code",
   "execution_count": null,
   "id": "9cadd29a",
   "metadata": {},
   "outputs": [
    {
     "name": "stderr",
     "output_type": "stream",
     "text": [
      "c:\\Users\\iatpuser\\Desktop\\Code\\Posydon_HR_Graphing_Script\\HRDiagram.py:316: RuntimeWarning: divide by zero encountered in log10\n",
      "  Temp=[np.log10(exampleTemp)],\n",
      "c:\\Users\\iatpuser\\Desktop\\Code\\Posydon_HR_Graphing_Script\\HRDiagram.py:317: RuntimeWarning: divide by zero encountered in log10\n",
      "  Lum=[np.log10(exampleLum)],\n"
     ]
    }
   ],
   "source": [
    "POSYDON_HR_Diagram_Bokeh_Sample(UCXBs, DF_Name=\"UCXBs\", Star_R= 8, palette= 'Turbo256', Fopen = False)"
   ]
  }
 ],
 "metadata": {
  "kernelspec": {
   "display_name": "base",
   "language": "python",
   "name": "python3"
  },
  "language_info": {
   "codemirror_mode": {
    "name": "ipython",
    "version": 3
   },
   "file_extension": ".py",
   "mimetype": "text/x-python",
   "name": "python",
   "nbconvert_exporter": "python",
   "pygments_lexer": "ipython3",
   "version": "3.12.4"
  }
 },
 "nbformat": 4,
 "nbformat_minor": 5
}
