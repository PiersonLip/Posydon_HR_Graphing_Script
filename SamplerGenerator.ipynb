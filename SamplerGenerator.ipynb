{
 "cells": [
  {
   "cell_type": "code",
   "execution_count": 1,
   "id": "6b66b094-08a9-4b2b-a42b-981c25f4d634",
   "metadata": {},
   "outputs": [],
   "source": [
    "import matplotlib.pyplot as plt\n",
    "import pandas as pd \n",
    "import numpy as np\n",
    "import h5py\n",
    "from matplotlib.pyplot import figure\n",
    "from HRDiagram import color_map_HR\n",
    "from HRDiagram import color_map_HR_bokeh\n",
    "from HRDiagram import HR_Diagram_Bokeh_Sample_Grapher\n",
    "from pathlib import Path\n",
    "\n",
    "pd.set_option('display.max_columns', None)\n"
   ]
  },
  {
   "cell_type": "code",
   "execution_count": null,
   "id": "bd2670bb",
   "metadata": {},
   "outputs": [],
   "source": [
    "# loading the POSYDON data in pandas DFs using pathlib. Any POSYDON pandas DF will work as well \n",
    "data = Path().resolve() / 'data'\n",
    "\n",
    "XBs = pd.read_csv(data / 'XB.csv', low_memory=False)\n",
    "contact = pd.read_csv(data / 'contact.csv', low_memory=False)\n",
    "LMXBs = pd.read_csv(data / 'lmxb.csv', low_memory=False)\n",
    "HMXBs = pd.read_csv(data / 'hmxb.csv', low_memory=False)"
   ]
  },
  {
   "cell_type": "code",
   "execution_count": null,
   "id": "6b943c8d",
   "metadata": {},
   "outputs": [],
   "source": [
    "HR_Diagram_Bokeh_Sample_Grapher(XBs, DF_Name='X-ray Binaries', SaveLocation=\"XBs\", Star_R=5, Fopen = \"F\")\n",
    "HR_Diagram_Bokeh_Sample_Grapher(XBs, DF_Name='X-ray Binaries', SaveLocation=\"XBs_DynamR\", Star_R='T', Fopen = \"F\")"
   ]
  },
  {
   "cell_type": "code",
   "execution_count": null,
   "id": "78c0cedd",
   "metadata": {},
   "outputs": [],
   "source": [
    "HR_Diagram_Bokeh_Sample_Grapher(contact, DF_Name='Contact Binaries', SaveLocation=\"Contacts\", Star_R=5, Fopen = \"F\")\n",
    "HR_Diagram_Bokeh_Sample_Grapher(contact, DF_Name='Contact Binaries', SaveLocation=\"Contacts_DynamR\", Star_R='T', Fopen = \"F\")"
   ]
  },
  {
   "cell_type": "code",
   "execution_count": null,
   "id": "9374aaaf",
   "metadata": {},
   "outputs": [],
   "source": [
    "HR_Diagram_Bokeh_Sample_Grapher(LMXBs, DF_Name='Low-Mass X-ray Binaries', SaveLocation= \"LMXBs\", Star_R= 5, Fopen = \"F\")\n",
    "HR_Diagram_Bokeh_Sample_Grapher(LMXBs, DF_Name='Low-Mass X-ray Binaries', SaveLocation= \"LMXBs_DynamR\", Star_R= 'T', Fopen = \"F\")"
   ]
  },
  {
   "cell_type": "code",
   "execution_count": null,
   "id": "2933e887",
   "metadata": {},
   "outputs": [],
   "source": [
    "HR_Diagram_Bokeh_Sample_Grapher(HMXBs, DF_Name='High-Mass X-ray Binaries', SaveLocation= \"HMXBs\", Star_R= 5, Fopen = \"F\")\n",
    "HR_Diagram_Bokeh_Sample_Grapher(HMXBs, DF_Name='High-Mass X-ray Binaries', SaveLocation= \"HMXBs_DynamR\", Star_R= 'T', Fopen = \"F\")"
   ]
  },
  {
   "cell_type": "code",
   "execution_count": null,
   "id": "9cadd29a",
   "metadata": {},
   "outputs": [],
   "source": [
    "HR_Diagram_Bokeh_Sample_Grapher(UCXBs, DF_Name=\"Ultra-Compact X-ray Binaries\", SaveLocation= \"UCXBs\", Star_R= 8, palette= 'Turbo256', Fopen = \"F\")\n",
    "HR_Diagram_Bokeh_Sample_Grapher(UCXBs, DF_Name=\"Ultra-Compact X-ray Binaries\", SaveLocation= \"UCXBs_DynamR\", Star_R= 'T', palette= 'Turbo256', Fopen = \"T\")"
   ]
  }
 ],
 "metadata": {
  "kernelspec": {
   "display_name": "base",
   "language": "python",
   "name": "python3"
  },
  "language_info": {
   "codemirror_mode": {
    "name": "ipython",
    "version": 3
   },
   "file_extension": ".py",
   "mimetype": "text/x-python",
   "name": "python",
   "nbconvert_exporter": "python",
   "pygments_lexer": "ipython3",
   "version": "3.12.4"
  }
 },
 "nbformat": 4,
 "nbformat_minor": 5
}
