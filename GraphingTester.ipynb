{
 "cells": [
  {
   "cell_type": "code",
   "execution_count": 1,
   "id": "6b66b094-08a9-4b2b-a42b-981c25f4d634",
   "metadata": {},
   "outputs": [],
   "source": [
    "import matplotlib.pyplot as plt\n",
    "import pandas as pd \n",
    "import numpy as np\n",
    "import h5py\n",
    "from matplotlib.pyplot import figure\n",
    "from scipy import stats\n",
    "from scipy import stats\n",
    "from scipy.stats import skewnorm\n",
    "from HRDiagram import color_map_HR\n",
    "from HRDiagram import color_map_HR_bokeh\n",
    "from HRDiagram import HR_Diagram_Bokeh_Sample_Grapher\n",
    "from pathlib import Path\n",
    "from bokeh.plotting import figure, output_file, save\n",
    "from bokeh.models import ColorBar, LinearColorMapper, LogColorMapper, ColumnDataSource, LogAxis, HoverTool\n",
    "from bokeh.transform import linear_cmap, log_cmap\n",
    "from bokeh.palettes import RdYlBu11\n",
    "from bokeh.palettes import interp_palette\n",
    "\n",
    "\n",
    "pd.set_option('display.max_columns', None)\n"
   ]
  },
  {
   "cell_type": "code",
   "execution_count": 2,
   "id": "bd2670bb",
   "metadata": {},
   "outputs": [],
   "source": [
    "# data folder location\n",
    "data = Path().resolve() / 'data'\n",
    "\n",
    "XBs = pd.read_csv(data / 'xb.csv', low_memory=False)\n",
    "\n",
    "contact = pd.read_csv(data / 'contact.csv', low_memory=False)\n",
    "# LMXBs = pd.read_csv(data / 'lmxb.csv', low_memory=False)\n",
    "# HMXBs = pd.read_csv(data / 'hmxb.csv', low_memory=False)\n",
    "# detached = pd.read_csv(data / 'detached.csv', low_memory=False)\n",
    "# V404Dataset = pd.read_csv(data / 'V404dataset.csv', low_memory=False)\n",
    "\n",
    "# EndStateDataset = pd.read_hdf(data / '1e+00_Zsun_population_max.h5', low_memory=False, key='history')\n",
    "\n"
   ]
  },
  {
   "cell_type": "code",
   "execution_count": 3,
   "id": "9589e52e",
   "metadata": {},
   "outputs": [],
   "source": [
    "testing = Path().resolve() / 'Testing' / 'graphs' \n"
   ]
  },
  {
   "cell_type": "code",
   "execution_count": 4,
   "id": "dd79ac99",
   "metadata": {},
   "outputs": [],
   "source": [
    "# color_map_HR(XBs, Star_Radius=.5)"
   ]
  },
  {
   "cell_type": "code",
   "execution_count": 5,
   "id": "0f6009df",
   "metadata": {},
   "outputs": [],
   "source": [
    "# color_map_HR(contact, 'Contact Binaries', open ='T')"
   ]
  },
  {
   "cell_type": "code",
   "execution_count": null,
   "id": "6b943c8d",
   "metadata": {},
   "outputs": [],
   "source": [
    "color_map_HR_bokeh(DF = XBs, \n",
    "             DF_name= 'X-ray Binaries',\n",
    "            variable= 'S2_mass', \n",
    "            var_name= r'Star Two [$M_{\\odot}$]', \n",
    "            referenceStar='T', \n",
    "            exampleLum=8.7, \n",
    "            referenceStarRange= 'T', \n",
    "            exampleLumMax= 8.7 + 1.7, \n",
    "            exampleLumMin= 8.7 - 1.4,  \n",
    "            exampleTemp = 4274,\n",
    "            exampleTempMin = 4274 -113,\n",
    "            exampleTempMax = 4274 + 116,\n",
    "            title='V404 Cygni B compared with POSYDON XrB donor stars', \n",
    "            saveLoc=testing, \n",
    "            ylimit='F', \n",
    "            Star_Radius= 5, \n",
    "            fileName='V404XBsPopulationHRComp',\n",
    "            open = 'T')"
   ]
  },
  {
   "cell_type": "code",
   "execution_count": null,
   "id": "a664aeee",
   "metadata": {},
   "outputs": [],
   "source": []
  }
 ],
 "metadata": {
  "kernelspec": {
   "display_name": "base",
   "language": "python",
   "name": "python3"
  },
  "language_info": {
   "codemirror_mode": {
    "name": "ipython",
    "version": 3
   },
   "file_extension": ".py",
   "mimetype": "text/x-python",
   "name": "python",
   "nbconvert_exporter": "python",
   "pygments_lexer": "ipython3",
   "version": "3.12.4"
  }
 },
 "nbformat": 4,
 "nbformat_minor": 5
}
